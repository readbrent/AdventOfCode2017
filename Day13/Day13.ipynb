{
 "cells": [
  {
   "cell_type": "code",
   "execution_count": 46,
   "metadata": {},
   "outputs": [
    {
     "name": "stdout",
     "output_type": "stream",
     "text": [
      "788\n"
     ]
    }
   ],
   "source": [
    "with open('input.txt') as f:\n",
    "    content = [x.strip('\\n') for x in f.readlines()]\n",
    "\n",
    "#content = ['0: 3', '1: 2', '4: 4', '6: 4']\n",
    "\n",
    "register_list = [0] * 93\n",
    "for value in content:\n",
    "    column = int(value.split(\": \")[0])\n",
    "    value = int(value.split(\": \")[1])\n",
    "    \n",
    "    register_list[column] = value\n",
    "    \n",
    "# Start doing the simulation:\n",
    "\n",
    "current_index = 0\n",
    "scanner_position = [0] * 93\n",
    "going_forward = [True] * 93\n",
    "score = 0\n",
    "\n",
    "for i, value in enumerate(register_list):\n",
    "    if value == 0:\n",
    "        scanner_position[i] = -1\n",
    "        \n",
    "\n",
    "\n",
    "while current_index < 93:\n",
    "    #print(\"Picosecond \" + str(current_index))\n",
    "    \n",
    "    #print(\"BEFORE \" + str(scanner_position[:7]))\n",
    "        \n",
    "    # Check for a collision\n",
    "    if scanner_position[current_index] == 0 and current_index != 1:\n",
    "        score += (register_list[current_index] * current_index)\n",
    "        \n",
    "    # Increrment the scanner positions, reset if at the max.\n",
    "    for i, value in enumerate(scanner_position):\n",
    "        if value != -1:\n",
    "            if going_forward[i]:\n",
    "                value += 1\n",
    "            else:\n",
    "                value -= 1\n",
    "            if value == register_list[i] - 1:\n",
    "                    going_forward[i] = False\n",
    "            elif value == 0:\n",
    "                going_forward[i] = True\n",
    "            \n",
    "            scanner_position[i] = value\n",
    "                \n",
    "    #print(\"AFTER \" + str(scanner_position[:7]))\n",
    "                \n",
    "    current_index += 1\n",
    "                \n",
    "print(score)"
   ]
  }
 ],
 "metadata": {
  "kernelspec": {
   "display_name": "Python 3",
   "language": "python",
   "name": "python3"
  },
  "language_info": {
   "codemirror_mode": {
    "name": "ipython",
    "version": 3
   },
   "file_extension": ".py",
   "mimetype": "text/x-python",
   "name": "python",
   "nbconvert_exporter": "python",
   "pygments_lexer": "ipython3",
   "version": "3.6.1"
  }
 },
 "nbformat": 4,
 "nbformat_minor": 2
}
