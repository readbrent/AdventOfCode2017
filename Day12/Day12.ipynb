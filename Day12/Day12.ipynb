{
 "cells": [
  {
   "cell_type": "code",
   "execution_count": 14,
   "metadata": {},
   "outputs": [
    {
     "name": "stdout",
     "output_type": "stream",
     "text": [
      "145\n"
     ]
    }
   ],
   "source": [
    "test_dict = {}\n",
    "\n",
    "with open('input.txt') as f:\n",
    "    content = [x.strip('\\n') for x in f.readlines()]\n",
    "    \n",
    "    for line in content:\n",
    "        split = line.split(\"<->\")\n",
    "        \n",
    "        node = int(split[0])\n",
    "        adjacent_members = [int(x) for x in split[1].split(',')]\n",
    "        \n",
    "        test_dict[node] = adjacent_members\n",
    "        \n",
    "\n",
    "# Do BFS\n",
    "queue = [0]\n",
    "visited_list = set()\n",
    "cohort_size = 0\n",
    "\n",
    "\n",
    "\n",
    "while queue:\n",
    "    test_node = queue.pop()\n",
    "    \n",
    "    if test_node in visited_list:\n",
    "        continue\n",
    "    \n",
    "    visited_list.add(test_node)\n",
    "    \n",
    "    if test_dict[test_node]:\n",
    "        queue.extend(test_node)\n",
    "    \n",
    "    cohort_size += 1\n",
    "    \n",
    "print(cohort_size)"
   ]
  },
  {
   "cell_type": "code",
   "execution_count": 23,
   "metadata": {},
   "outputs": [
    {
     "name": "stdout",
     "output_type": "stream",
     "text": [
      "207\n"
     ]
    }
   ],
   "source": [
    "import random\n",
    "\n",
    "test_dict = {}\n",
    "\n",
    "with open('input.txt') as f:\n",
    "    content = [x.strip('\\n') for x in f.readlines()]\n",
    "    \n",
    "    for line in content:\n",
    "        split = line.split(\"<->\")\n",
    "        \n",
    "        node = int(split[0])\n",
    "        adjacent_members = [int(x) for x in split[1].split(',')]\n",
    "        \n",
    "        test_dict[node] = adjacent_members\n",
    "        \n",
    "\n",
    "# Do BFS\n",
    "visited_list = set()\n",
    "cohort_size = 0\n",
    "num_groups = 0\n",
    "queue = []\n",
    "\n",
    "while test_dict:\n",
    "    queue.append(random.choice(list(test_dict.keys())))\n",
    "    while queue:\n",
    "        test_node = queue.pop()\n",
    "\n",
    "        if test_node in visited_list:\n",
    "            continue\n",
    "\n",
    "        visited_list.add(test_node)\n",
    "\n",
    "        if test_dict[test_node]:\n",
    "            queue.extend(test_dict[test_node])\n",
    "            del test_dict[test_node]\n",
    "\n",
    "    num_groups += 1\n",
    "    \n",
    "print(num_groups)"
   ]
  }
 ],
 "metadata": {
  "kernelspec": {
   "display_name": "Python 3",
   "language": "python",
   "name": "python3"
  },
  "language_info": {
   "codemirror_mode": {
    "name": "ipython",
    "version": 3
   },
   "file_extension": ".py",
   "mimetype": "text/x-python",
   "name": "python",
   "nbconvert_exporter": "python",
   "pygments_lexer": "ipython3",
   "version": "3.6.1"
  }
 },
 "nbformat": 4,
 "nbformat_minor": 2
}
