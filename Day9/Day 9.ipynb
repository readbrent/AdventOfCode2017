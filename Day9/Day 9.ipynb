{
 "cells": [
  {
   "cell_type": "code",
   "execution_count": null,
   "metadata": {},
   "outputs": [],
   "source": [
    "def process_line(line):\n",
    "    score = 0\n",
    "    current_layer = 0\n",
    "    cancelled_chars = 0\n",
    "    negate_next = False\n",
    "    in_garbage = False\n",
    "    for char in line:\n",
    "        if in_garbage:\n",
    "            # If this character was negated, then\n",
    "            # we don't really care what its value is.\n",
    "            # Assume that we only get negations\n",
    "            # when we're within garbage.\n",
    "            if negate_next:\n",
    "                negate_next = False\n",
    "                continue\n",
    "            \n",
    "            if char is \">\":\n",
    "                in_garbage = False\n",
    "            elif char is \"!\":\n",
    "                negate_next = True\n",
    "            else:\n",
    "                cancelled_chars += 1\n",
    "        else:\n",
    "            if char is \"{\":\n",
    "                # Started a new nested layer\n",
    "                current_layer += 1\n",
    "            if char is \"}\":\n",
    "                score += current_layer\n",
    "                current_layer -= 1\n",
    "            if char is \"<\":\n",
    "                in_garbage = True\n",
    "        \n",
    "    return score, cancelled_chars"
   ]
  },
  {
   "cell_type": "code",
   "execution_count": null,
   "metadata": {},
   "outputs": [],
   "source": [
    "def run_tests():\n",
    "    assert process_line(\"{}\") == 1\n",
    "    assert process_line(\"{{{}}}\") == 6\n",
    "    assert process_line(\"{{{},{},{{}}}}\") == 16\n",
    "    assert process_line(\"{<a>,<a>,<a>,<a>}\") == 1\n",
    "    assert process_line(\"{{<ab>},{<ab>},{<ab>},{<ab>}}\") == 9\n",
    "    assert process_line(\"{{<!!>},{<!!>},{<!!>},{<!!>}}\") == 9\n",
    "    assert process_line(\"{{<a!>},{<a!>},{<a!>},{<ab>}}\") == 3\n",
    "    \n",
    "run_tests()"
   ]
  },
  {
   "cell_type": "code",
   "execution_count": null,
   "metadata": {},
   "outputs": [],
   "source": [
    "with open('input.txt') as f:\n",
    "    content = [x.strip('\\n') for x in f.readlines()]\n",
    "    print(process_line(content[0]))   "
   ]
  }
 ],
 "metadata": {
  "kernelspec": {
   "display_name": "Python 3",
   "language": "python",
   "name": "python3"
  },
  "language_info": {
   "codemirror_mode": {
    "name": "ipython",
    "version": 3
   },
   "file_extension": ".py",
   "mimetype": "text/x-python",
   "name": "python",
   "nbconvert_exporter": "python",
   "pygments_lexer": "ipython3",
   "version": "3.6.1"
  }
 },
 "nbformat": 4,
 "nbformat_minor": 2
}
