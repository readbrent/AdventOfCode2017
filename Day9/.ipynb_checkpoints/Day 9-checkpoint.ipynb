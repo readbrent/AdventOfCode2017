{
 "cells": [
  {
   "cell_type": "code",
   "execution_count": 24,
   "metadata": {},
   "outputs": [],
   "source": [
    "def process_line(line):\n",
    "    score = 0\n",
    "    current_layer = 0\n",
    "    negate_next = False\n",
    "    in_garbage = False\n",
    "    for char in line:\n",
    "        if in_garbage:\n",
    "            # If this character was negated, then\n",
    "            # we don't really care what its value is.\n",
    "            # Currently assumed that we only get negations\n",
    "            # when we're within garbage.\n",
    "            if negate_next:\n",
    "                negate_next = False\n",
    "                continue\n",
    "            \n",
    "            if char is \">\":\n",
    "                in_garbage = False\n",
    "                \n",
    "            if char is \"!\":\n",
    "                negate_next = True\n",
    "        else:\n",
    "            if char is \"{\":\n",
    "                # Started a new nested layer\n",
    "                current_layer += 1\n",
    "            if char is \"}\":\n",
    "                score += current_layer\n",
    "                current_layer -= 1\n",
    "            if char is \"<\":\n",
    "                in_garbage = True\n",
    "        \n",
    "    return score"
   ]
  },
  {
   "cell_type": "code",
   "execution_count": 21,
   "metadata": {},
   "outputs": [],
   "source": [
    "def run_tests():\n",
    "    assert process_line(\"{}\") == 1\n",
    "    assert process_line(\"{{{}}}\") == 6\n",
    "    assert process_line(\"{{{},{},{{}}}}\") == 16\n",
    "    assert process_line(\"{<a>,<a>,<a>,<a>}\") == 1\n",
    "    assert process_line(\"{{<ab>},{<ab>},{<ab>},{<ab>}}\") == 9\n",
    "    assert process_line(\"{{<!!>},{<!!>},{<!!>},{<!!>}}\") == 9\n",
    "    assert process_line(\"{{<a!>},{<a!>},{<a!>},{<ab>}}\") == 3\n",
    "    \n",
    "run_tests()"
   ]
  },
  {
   "cell_type": "code",
   "execution_count": 28,
   "metadata": {},
   "outputs": [
    {
     "ename": "SyntaxError",
     "evalue": "invalid syntax (<ipython-input-28-8a71cb2127aa>, line 2)",
     "output_type": "error",
     "traceback": [
      "\u001b[1;36m  File \u001b[1;32m\"<ipython-input-28-8a71cb2127aa>\"\u001b[1;36m, line \u001b[1;32m2\u001b[0m\n\u001b[1;33m    content = x.strip('\\n') for x in f.readlines()\u001b[0m\n\u001b[1;37m                              ^\u001b[0m\n\u001b[1;31mSyntaxError\u001b[0m\u001b[1;31m:\u001b[0m invalid syntax\n"
     ]
    }
   ],
   "source": [
    "with open('input.txt') as f:\n",
    "    content = [x.strip('\\n') for x in f.readlines()]\n",
    "    process_line(content[0])   "
   ]
  }
 ],
 "metadata": {
  "kernelspec": {
   "display_name": "Python 3",
   "language": "python",
   "name": "python3"
  },
  "language_info": {
   "codemirror_mode": {
    "name": "ipython",
    "version": 3
   },
   "file_extension": ".py",
   "mimetype": "text/x-python",
   "name": "python",
   "nbconvert_exporter": "python",
   "pygments_lexer": "ipython3",
   "version": "3.6.1"
  }
 },
 "nbformat": 4,
 "nbformat_minor": 2
}
