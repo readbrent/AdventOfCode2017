{
 "cells": [
  {
   "cell_type": "code",
   "execution_count": null,
   "metadata": {
    "collapsed": true
   },
   "outputs": [],
   "source": [
    "f = open(\"input.txt\", \"r\")\n",
    "moves = f.read.split(',')\n",
    "\n",
    "x = 0\n",
    "y = 0\n",
    "z = 0\n",
    "\n",
    "distances = []\n",
    "\n",
    "for move in movves:\n",
    "    if move == \"n\":\n",
    "        y += 1\n",
    "        z -= 1\n",
    "        \n",
    "    elif move == \"s\":\n",
    "        y -= 1\n",
    "        z += 1\n",
    "        \n",
    "    elif move == \"ne\":\n",
    "        x += 1\n",
    "        z -= 1\n",
    "        \n",
    "    if move == \"sw\":\n",
    "        x -= 1\n",
    "        z += 1\n",
    "        \n",
    "    if move == \"nw\":\n",
    "        x -= 1\n",
    "        y += 1\n",
    "        \n",
    "    if move == \"se\":\n",
    "        x += 1\n",
    "        y -= 1"
   ]
  }
 ],
 "metadata": {
  "kernelspec": {
   "display_name": "Python 3",
   "language": "python",
   "name": "python3"
  },
  "language_info": {
   "codemirror_mode": {
    "name": "ipython",
    "version": 3
   },
   "file_extension": ".py",
   "mimetype": "text/x-python",
   "name": "python",
   "nbconvert_exporter": "python",
   "pygments_lexer": "ipython3",
   "version": "3.6.1"
  }
 },
 "nbformat": 4,
 "nbformat_minor": 2
}
