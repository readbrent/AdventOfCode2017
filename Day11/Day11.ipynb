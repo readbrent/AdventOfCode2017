{
 "cells": [
  {
   "cell_type": "code",
   "execution_count": 53,
   "metadata": {},
   "outputs": [],
   "source": [
    "def cancel(step_dict):\n",
    "    while step_dict['n'] and step_dict['s']:\n",
    "        step_dict['n'] -= 1\n",
    "        step_dict['s'] -= 1\n",
    "        \n",
    "    while step_dict['nw'] and step_dict['se']:\n",
    "        step_dict['nw'] -= 1\n",
    "        step_dict['se'] -= 1\n",
    "        \n",
    "    while step_dict['ne'] and step_dict['sw']:\n",
    "        step_dict['ne'] -= 1\n",
    "        step_dict['sw'] -= 1\n",
    "        \n",
    "def combine(step_dict):\n",
    "    '''\n",
    "    Combines any moves that could be done in one move.\n",
    "    For example, se, sw -> s\n",
    "    '''\n",
    "    while step_dict['nw'] and step_dict['ne']:\n",
    "        step_dict['nw'] -= 1\n",
    "        step_dict['ne'] -= 1\n",
    "        step_dict['n'] += 1\n",
    "        \n",
    "    while step_dict['sw'] and step_dict['se']:\n",
    "        step_dict['sw'] -= 1\n",
    "        step_dict['se'] -= 1\n",
    "        step_dict['s'] += 1\n",
    "        \n",
    "def optimize(step_dict):\n",
    "    while step_dict['n'] and step_dict['se']:\n",
    "        step_dict['n'] -= 1\n",
    "        step_dict['se'] -= 1\n",
    "        step_dict['ne'] += 1\n",
    "    \n",
    "    while step_dict['ne'] and step_dict['s']:\n",
    "        step_dict['s'] -= 1\n",
    "        step_dict['ne'] -= 1\n",
    "        step_dict['se'] += 1\n",
    "        \n",
    "    while step_dict['se'] and step_dict['sw']:\n",
    "        step_dict['se'] -= 1\n",
    "        step_dict['sw'] -= 1\n",
    "        step_dict['s'] += 1\n",
    "        \n",
    "    while step_dict['s'] and step_dict['nw']:\n",
    "        step_dict['s'] -= 1\n",
    "        step_dict['nw'] -= 1\n",
    "        step_dict['sw'] += 1\n",
    "        \n",
    "    while step_dict['sw'] and step_dict['n']:\n",
    "        step_dict['sw'] -= 1\n",
    "        step_dict['n'] -= 1\n",
    "        step_dict['nw'] += 1\n",
    "        \n",
    "    while step_dict['nw'] and step_dict['ne']:\n",
    "        step_dict['s'] -= 1\n",
    "        step_dict['nw'] -= 1\n",
    "        step_dict['n'] += 1\n",
    "        \n",
    "    \n",
    "def reduce(steps):\n",
    "    '''\n",
    "    Takes in a list of moves and returns an optimized path.\n",
    "    '''\n",
    "    # Step 1: Count up all of the steps. Since these are effectively\n",
    "    # movement vecetors, we can decompose them and re-order them at will.\n",
    "    step_count = {s : 0 for s in ['n', 'ne', 'nw', 'sw', 'se', 's']}\n",
    "    \n",
    "    for step in steps:\n",
    "        step_count[step] += 1\n",
    "    \n",
    "    # Cancel out any complementary moves.\n",
    "    cancel(step_count)\n",
    "    \n",
    "    # Combine any operations that could be the same.\n",
    "    combine(step_count)\n",
    "    \n",
    "    # One more round of optimization\n",
    "    optimize(step_count)\n",
    "    \n",
    "    return step_count\n",
    "\n",
    "def num_steps(step_dict):\n",
    "    return sum(step_dict.values())"
   ]
  },
  {
   "cell_type": "code",
   "execution_count": 54,
   "metadata": {},
   "outputs": [],
   "source": [
    "def run_tests():\n",
    "    assert num_steps(reduce('ne,ne,sw,sw'.split(','))) == 0\n",
    "    assert num_steps(reduce('se,sw,se,sw,sw'.split(','))) == 3\n",
    "    assert num_steps(reduce('ne,ne,s,s'.split(','))) == 2\n",
    "    \n",
    "run_tests()"
   ]
  },
  {
   "cell_type": "code",
   "execution_count": 55,
   "metadata": {},
   "outputs": [
    {
     "name": "stdout",
     "output_type": "stream",
     "text": [
      "747\n"
     ]
    }
   ],
   "source": [
    "with open('input.txt') as f:\n",
    "    content = [x.strip('\\n') for x in f.readlines()]\n",
    "    print(num_steps(reduce(content[0].split(','))))"
   ]
  },
  {
   "cell_type": "code",
   "execution_count": null,
   "metadata": {
    "collapsed": true
   },
   "outputs": [],
   "source": []
  }
 ],
 "metadata": {
  "kernelspec": {
   "display_name": "Python 3",
   "language": "python",
   "name": "python3"
  },
  "language_info": {
   "codemirror_mode": {
    "name": "ipython",
    "version": 3
   },
   "file_extension": ".py",
   "mimetype": "text/x-python",
   "name": "python",
   "nbconvert_exporter": "python",
   "pygments_lexer": "ipython3",
   "version": "3.6.1"
  }
 },
 "nbformat": 4,
 "nbformat_minor": 2
}
