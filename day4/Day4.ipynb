{
 "cells": [
  {
   "cell_type": "code",
   "execution_count": 3,
   "metadata": {
    "collapsed": true
   },
   "outputs": [],
   "source": [
    "def evaluate_passphrase(password):\n",
    "    tokens = password.split(' ')\n",
    "    word_set = set()\n",
    "    for word in tokens:\n",
    "        if word in word_set:\n",
    "            return False\n",
    "        else:\n",
    "            word_set.add(sorted(word)\n",
    "        \n",
    "    return True\n",
    "\n",
    "assert evaluate_passphrase(\"aa bb cc dd ee\") == True\n",
    "assert evaluate_passphrase(\"aa bb cc dd aa\") == False\n",
    "assert evaluate_passphrase(\"aa bb cc dd aaa\") == True"
   ]
  },
  {
   "cell_type": "code",
   "execution_count": 18,
   "metadata": {},
   "outputs": [],
   "source": [
    "def evaluate_passphrase_anagram(password):\n",
    "    tokens = password.split(' ')\n",
    "    word_dict = {}\n",
    "    for word in tokens:\n",
    "        sorted_word = str(sorted(word))\n",
    "        if sorted_word in word_dict:\n",
    "            return False\n",
    "        else:\n",
    "            word_dict[sorted_word] = True\n",
    "        \n",
    "    return True\n",
    "\n",
    "assert evaluate_passphrase_anagram(\"abcde fghij\") == True\n",
    "assert evaluate_passphrase_anagram(\"abcde xyz ecdab\") == False\n",
    "assert evaluate_passphrase_anagram(\"a ab abc abd abf abj\") == True\n",
    "assert evaluate_passphrase_anagram(\"iiii oiii ooii oooi oooo\") == True\n",
    "assert evaluate_passphrase_anagram(\"oiii ioii iioi iiio\") == False"
   ]
  },
  {
   "cell_type": "code",
   "execution_count": 24,
   "metadata": {},
   "outputs": [
    {
     "name": "stdout",
     "output_type": "stream",
     "text": [
      "468\n",
      "278\n",
      "251\n"
     ]
    }
   ],
   "source": [
    "def count_input():\n",
    "    with open('input.txt') as f:\n",
    "        content = f.readlines()\n",
    "    print(sum([evaluate_passphrase(line) for line in content]))\n",
    "    print(sum([evaluate_passphrase_anagram(line) for line in content]))\n",
    "    \n",
    "    result = 0\n",
    "    for line in content:\n",
    "        x=[\"\".join(sorted(i)) for i in line.split()]\n",
    "        if len(x) == len(set(x)):\n",
    "            result += 1\n",
    "            \n",
    "    print(result)\n",
    "\n",
    "count_input()"
   ]
  },
  {
   "cell_type": "code",
   "execution_count": null,
   "metadata": {
    "collapsed": true
   },
   "outputs": [],
   "source": []
  }
 ],
 "metadata": {
  "kernelspec": {
   "display_name": "Python 3",
   "language": "python",
   "name": "python3"
  },
  "language_info": {
   "codemirror_mode": {
    "name": "ipython",
    "version": 3
   },
   "file_extension": ".py",
   "mimetype": "text/x-python",
   "name": "python",
   "nbconvert_exporter": "python",
   "pygments_lexer": "ipython3",
   "version": "3.6.1"
  }
 },
 "nbformat": 4,
 "nbformat_minor": 2
}
