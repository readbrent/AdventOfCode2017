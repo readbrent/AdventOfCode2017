{
 "cells": [
  {
   "cell_type": "code",
   "execution_count": 3,
   "metadata": {
    "collapsed": true
   },
   "outputs": [],
   "source": [
    "def evaluate_passphrase(password):\n",
    "    tokens = password.split(' ')\n",
    "    word_set = set()\n",
    "    for word in tokens:\n",
    "        if word in word_set:\n",
    "            return False\n",
    "        else:\n",
    "            word_set.add(sorted(word)\n",
    "        \n",
    "    return True\n",
    "\n",
    "assert evaluate_passphrase(\"aa bb cc dd ee\") == True\n",
    "assert evaluate_passphrase(\"aa bb cc dd aa\") == False\n",
    "assert evaluate_passphrase(\"aa bb cc dd aaa\") == True"
   ]
  },
  {
   "cell_type": "code",
   "execution_count": null,
   "metadata": {
    "collapsed": true
   },
   "outputs": [],
   "source": [
    "def evaluate_passphrase_anagram(password):\n",
    "    tokens = password.split(' ')\n",
    "    word_set = set()\n",
    "    for word in tokens:\n",
    "        if word in word_set:\n",
    "            return False\n",
    "        else:\n",
    "            word_set.add(sorted(word)\n",
    "        \n",
    "    return True\n",
    "\n",
    "assert evaluate_passphrase_anagram(\"abcde fghij\") == True\n",
    "assert evaluate_passphrase_anagram(\"abcde xyz ecdab\") == False\n",
    "assert evaluate_passphrase_anagram(\"a ab abc abd abf abj\") == True\n",
    "assert evaluate_passphrase_anagram(\"iiii oiii ooii oooi oooo\") == True\n",
    "assert evaluate_passphrase_anagram(\"oiii ioii iioi iiio\") == False"
   ]
  },
  {
   "cell_type": "code",
   "execution_count": 12,
   "metadata": {},
   "outputs": [
    {
     "name": "stdout",
     "output_type": "stream",
     "text": [
      "468\n"
     ]
    }
   ],
   "source": [
    "def count_input():\n",
    "    with open('input.txt') as f:\n",
    "        content = f.readlines()\n",
    "    return sum([evaluate_passphrase(line) for line in content if line])\n",
    "\n",
    "print(count_input())"
   ]
  }
 ],
 "metadata": {
  "kernelspec": {
   "display_name": "Python 3",
   "language": "python",
   "name": "python3"
  },
  "language_info": {
   "codemirror_mode": {
    "name": "ipython",
    "version": 3
   },
   "file_extension": ".py",
   "mimetype": "text/x-python",
   "name": "python",
   "nbconvert_exporter": "python",
   "pygments_lexer": "ipython3",
   "version": "3.6.1"
  }
 },
 "nbformat": 4,
 "nbformat_minor": 2
}
