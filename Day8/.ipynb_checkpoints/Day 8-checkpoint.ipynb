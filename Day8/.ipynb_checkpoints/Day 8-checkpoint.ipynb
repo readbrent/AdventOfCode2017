{
 "cells": [
  {
   "cell_type": "code",
   "execution_count": 50,
   "metadata": {},
   "outputs": [],
   "source": [
    "register_map = {}\n",
    "max_so_far = 0\n",
    "\n",
    "def do_register(line):\n",
    "    # Tokenize the input\n",
    "    action_tokens = line.split(' if ')[0].split(' ')\n",
    "    condition_tokens = line.split(' if ')[1].split(' ')\n",
    "    \n",
    "    # Tokenize the line\n",
    "    register = action_tokens[0]\n",
    "    op = action_tokens[1]\n",
    "    mod_value = action_tokens[2]\n",
    "\n",
    "    cond_reg = condition_tokens[0]\n",
    "    cond_op = condition_tokens[1]\n",
    "    cond_val = condition_tokens[2]\n",
    "    \n",
    "    condition = False\n",
    "    \n",
    "    # Initialize the value\n",
    "    if cond_reg not in register_map:\n",
    "        register_map[cond_reg] = 0\n",
    "        \n",
    "    # Process the condition\n",
    "    if process_condition(register_map[cond_reg], cond_op, cond_val):\n",
    "        if register not in register_map:\n",
    "            register_map[register] = 0\n",
    "                \n",
    "        if op == \"inc\":\n",
    "            register_map[register] += int(mod_value)\n",
    "        else:\n",
    "            register_map[register] -= int(mod_value)\n",
    "            \n",
    "        max_so_far = max(max_so_far, register_map[register])\n",
    "            \n",
    "def process_condition(value, operand, comparison_value):\n",
    "    if operand == \">\":\n",
    "        return int(value) > int(comparison_value) \n",
    "    elif operand == \"<\":\n",
    "        return int(value) < int(comparison_value) \n",
    "    elif operand == \"!=\":\n",
    "        return int(value) != int(comparison_value) \n",
    "    elif operand == \"==\":\n",
    "        return int(value) == int(comparison_value) \n",
    "    elif operand == \"<=\":\n",
    "        return int(value) <= int(comparison_value) \n",
    "    elif operand == \">=\":\n",
    "        return int(value) >= int(comparison_value) \n",
    "    else:\n",
    "        print(\"Unknown operand \" + operand)\n",
    "        assert False"
   ]
  },
  {
   "cell_type": "code",
   "execution_count": 39,
   "metadata": {},
   "outputs": [],
   "source": [
    "def run_test():\n",
    "    test_lines = [\"b inc 5 if a > 1\",\n",
    "    \"a inc 1 if b < 5\",\n",
    "    \"c dec -10 if a >= 1\",\n",
    "    \"c inc -20 if c == 10\"]\n",
    "\n",
    "    for line in test_lines:\n",
    "        do_register(line)\n",
    "\n",
    "    print(max(register_map.values()))"
   ]
  },
  {
   "cell_type": "code",
   "execution_count": 51,
   "metadata": {},
   "outputs": [
    {
     "name": "stdout",
     "output_type": "stream",
     "text": [
      "5102\n"
     ]
    }
   ],
   "source": [
    "# Create the line\n",
    "def part1():\n",
    "    with open('input.txt') as f:\n",
    "        content = [x.strip('\\n') for x in f.readlines()]\n",
    "        for line in content:\n",
    "            do_register(line)\n",
    "\n",
    "    print(max(register_map.values()))\n",
    "    \n",
    "part1()"
   ]
  }
 ],
 "metadata": {
  "kernelspec": {
   "display_name": "Python 3",
   "language": "python",
   "name": "python3"
  },
  "language_info": {
   "codemirror_mode": {
    "name": "ipython",
    "version": 3
   },
   "file_extension": ".py",
   "mimetype": "text/x-python",
   "name": "python",
   "nbconvert_exporter": "python",
   "pygments_lexer": "ipython3",
   "version": "3.6.1"
  }
 },
 "nbformat": 4,
 "nbformat_minor": 2
}
