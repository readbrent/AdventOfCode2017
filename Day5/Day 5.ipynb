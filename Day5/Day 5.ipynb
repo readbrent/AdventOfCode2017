{
 "cells": [
  {
   "cell_type": "code",
   "execution_count": 24,
   "metadata": {
    "collapsed": true
   },
   "outputs": [],
   "source": [
    "def simulate(instructions):\n",
    "    '''\n",
    "    Instructions is mutable list.\n",
    "    Each time an instruction is used, it is increased by 1\n",
    "    '''\n",
    "    ip = 0\n",
    "    steps = 0\n",
    "    next_move = 0\n",
    "    while True:\n",
    "        if ip >= len(instructions) or ip < 0:\n",
    "            return steps\n",
    "    \n",
    "        next_move += instructions[ip]\n",
    "        instructions[ip] += 1 \n",
    "        ip = next_move\n",
    "        steps += 1"
   ]
  },
  {
   "cell_type": "code",
   "execution_count": 47,
   "metadata": {},
   "outputs": [],
   "source": [
    "def simulate_part_2(instructions):\n",
    "    '''\n",
    "    Instructions is mutable list.\n",
    "    Each time an instruction is used, it is increased by 1\n",
    "    '''\n",
    "    ip = 0\n",
    "    steps = 0\n",
    "    while ip < len(instructions) and ip >= 0:\n",
    "        offset = instructions[ip]\n",
    "        if offset >= 3:\n",
    "            instructions[ip] -= 1\n",
    "        else:\n",
    "            instructions[ip] += 1\n",
    "\n",
    "        ip += offset\n",
    "        steps += 1\n",
    "        \n",
    "    return steps"
   ]
  },
  {
   "cell_type": "code",
   "execution_count": 48,
   "metadata": {},
   "outputs": [],
   "source": [
    "def run_test():\n",
    "    assert simulate([0, 3, 0, 1, -3]) == 5\n",
    "    assert simulate_part_2([0, 3, 0, 1, -3]) == 10\n",
    "    \n",
    "run_test()"
   ]
  },
  {
   "cell_type": "code",
   "execution_count": null,
   "metadata": {},
   "outputs": [
    {
     "name": "stdout",
     "output_type": "stream",
     "text": [
      "372139\n"
     ]
    }
   ],
   "source": [
    "def create_list():\n",
    "    with open('input.txt') as f:\n",
    "        content = [int(x.strip('\\n')) for x in f.readlines()]\n",
    "    return content \n",
    "\n",
    "test_list = create_list()\n",
    "print(simulate(test_list.copy()))\n",
    "print(simulate_part_2(test_list))"
   ]
  }
 ],
 "metadata": {
  "kernelspec": {
   "display_name": "Python 3",
   "language": "python",
   "name": "python3"
  },
  "language_info": {
   "codemirror_mode": {
    "name": "ipython",
    "version": 3
   },
   "file_extension": ".py",
   "mimetype": "text/x-python",
   "name": "python",
   "nbconvert_exporter": "python",
   "pygments_lexer": "ipython3",
   "version": "3.6.1"
  }
 },
 "nbformat": 4,
 "nbformat_minor": 2
}
