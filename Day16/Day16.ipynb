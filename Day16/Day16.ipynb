{
 "cells": [
  {
   "cell_type": "code",
   "execution_count": 42,
   "metadata": {},
   "outputs": [
    {
     "name": "stdout",
     "output_type": "stream",
     "text": [
      "['a', 'b', 'c', 'd', 'e']\n"
     ]
    },
    {
     "ename": "AssertionError",
     "evalue": "",
     "output_type": "error",
     "traceback": [
      "\u001b[1;31m---------------------------------------------------------------------------\u001b[0m",
      "\u001b[1;31mAssertionError\u001b[0m                            Traceback (most recent call last)",
      "\u001b[1;32m<ipython-input-42-3946050b8a87>\u001b[0m in \u001b[0;36m<module>\u001b[1;34m()\u001b[0m\n\u001b[0;32m     25\u001b[0m \u001b[0mtemp\u001b[0m \u001b[1;33m=\u001b[0m \u001b[1;33m(\u001b[0m\u001b[0mexchange\u001b[0m\u001b[1;33m(\u001b[0m\u001b[0mtemp\u001b[0m\u001b[1;33m,\u001b[0m\u001b[1;36m3\u001b[0m\u001b[1;33m,\u001b[0m\u001b[1;36m4\u001b[0m\u001b[1;33m)\u001b[0m\u001b[1;33m)\u001b[0m\u001b[1;33m\u001b[0m\u001b[0m\n\u001b[0;32m     26\u001b[0m \u001b[0mtemp\u001b[0m \u001b[1;33m=\u001b[0m \u001b[0mpartner\u001b[0m\u001b[1;33m(\u001b[0m\u001b[0mtemp\u001b[0m\u001b[1;33m,\u001b[0m \u001b[1;34m'e'\u001b[0m\u001b[1;33m,\u001b[0m \u001b[1;34m'b'\u001b[0m\u001b[1;33m)\u001b[0m\u001b[1;33m\u001b[0m\u001b[0m\n\u001b[1;32m---> 27\u001b[1;33m \u001b[1;32massert\u001b[0m \u001b[0mtemp\u001b[0m \u001b[1;33m==\u001b[0m \u001b[1;33m[\u001b[0m\u001b[1;34m'b'\u001b[0m\u001b[1;33m,\u001b[0m \u001b[1;34m'a'\u001b[0m\u001b[1;33m,\u001b[0m \u001b[1;34m'e'\u001b[0m\u001b[1;33m,\u001b[0m \u001b[1;34m'd'\u001b[0m\u001b[1;33m,\u001b[0m \u001b[1;34m'c'\u001b[0m\u001b[1;33m]\u001b[0m\u001b[1;33m\u001b[0m\u001b[0m\n\u001b[0m",
      "\u001b[1;31mAssertionError\u001b[0m: "
     ]
    }
   ],
   "source": [
    "def spin(positions, number):\n",
    "    return positions[(-1 * number):] + positions[:len(positions) - number]\n",
    "\n",
    "def exchange(positions, index1, index2):\n",
    "    temp = positions[index1]\n",
    "    positions[index1] = positions[index2]\n",
    "    positions[index2] = temp\n",
    "    \n",
    "    return positions\n",
    "\n",
    "def partner(positions, target1, target2):\n",
    "    index1 = positions.index(target1)\n",
    "    index2 = positions.index(target2)\n",
    "    \n",
    "    positions[index1] = target2\n",
    "    positions[index2] = target1\n",
    "    \n",
    "    return positions\n",
    "\n",
    "\n",
    "test_line = ['a','b','c','d','e']\n",
    "\n",
    "temp = spin(test_line, 1)\n",
    "temp = (exchange(temp,3,4))\n",
    "temp = partner(temp, 'e', 'b')\n",
    "assert temp == ['b', 'a', 'e', 'd', 'c']"
   ]
  },
  {
   "cell_type": "code",
   "execution_count": 50,
   "metadata": {},
   "outputs": [
    {
     "name": "stdout",
     "output_type": "stream",
     "text": [
      "['k', 'g', 'd', 'c', 'h', 'l', 'f', 'n', 'i', 'a', 'm', 'b', 'e', 'j', 'o', 'p']\n",
      "Tick\n"
     ]
    },
    {
     "ename": "KeyboardInterrupt",
     "evalue": "",
     "output_type": "error",
     "traceback": [
      "\u001b[1;31m---------------------------------------------------------------------------\u001b[0m",
      "\u001b[1;31mKeyboardInterrupt\u001b[0m                         Traceback (most recent call last)",
      "\u001b[1;32m<ipython-input-50-4bc9aafea04e>\u001b[0m in \u001b[0;36m<module>\u001b[1;34m()\u001b[0m\n\u001b[0;32m     43\u001b[0m         \u001b[0mindex\u001b[0m \u001b[1;33m=\u001b[0m \u001b[1;36m0\u001b[0m\u001b[1;33m\u001b[0m\u001b[0m\n\u001b[0;32m     44\u001b[0m \u001b[1;33m\u001b[0m\u001b[0m\n\u001b[1;32m---> 45\u001b[1;33m     \u001b[1;32mif\u001b[0m \u001b[1;33m(\u001b[0m\u001b[0mtime\u001b[0m \u001b[1;33m%\u001b[0m \u001b[1;36m1000000000\u001b[0m \u001b[1;33m==\u001b[0m \u001b[1;36m0\u001b[0m\u001b[1;33m)\u001b[0m\u001b[1;33m:\u001b[0m\u001b[1;33m\u001b[0m\u001b[0m\n\u001b[0m\u001b[0;32m     46\u001b[0m         \u001b[0mprint\u001b[0m\u001b[1;33m(\u001b[0m\u001b[1;34m\"Tick\"\u001b[0m\u001b[1;33m)\u001b[0m\u001b[1;33m\u001b[0m\u001b[0m\n\u001b[0;32m     47\u001b[0m \u001b[1;33m\u001b[0m\u001b[0m\n",
      "\u001b[1;31mKeyboardInterrupt\u001b[0m: "
     ]
    }
   ],
   "source": [
    "with open('input.txt') as f:\n",
    "    content = f.readlines()\n",
    "\n",
    "#print(content[0].split(','))\n",
    "\n",
    "positions = ['a','b','c','d','e','f','g','h','i','j','k','l','m','n','o','p']\n",
    "command_list = content[0].split(',')\n",
    "for command in command_list:\n",
    "    if command[0] == 's':\n",
    "        positions = spin(positions, int(command[1:]))\n",
    "    elif command[0] == 'x':\n",
    "        split_command = command.split('/')\n",
    "        first = int(split_command[0][1:])\n",
    "        second = int(split_command[1])\n",
    "        positions = exchange(positions, first, second)\n",
    "    elif command[0] == 'p':\n",
    "        split_command = command.split('/')\n",
    "        first = split_command[0][1:]\n",
    "        second = split_command[1]\n",
    "        positions = partner(positions, first, second)\n",
    "\n",
    "print(str(positions))\n",
    "##### Part 2\n",
    "for time in range(1000000000):\n",
    "    index = 0\n",
    "    command = command_list[index]\n",
    "    \n",
    "    if command[0] == 's':\n",
    "        positions = spin(positions, int(command[1:]))\n",
    "    elif command[0] == 'x':\n",
    "        split_command = command.split('/')\n",
    "        first = int(split_command[0][1:])\n",
    "        second = int(split_command[1])\n",
    "        positions = exchange(positions, first, second)\n",
    "    elif command[0] == 'p':\n",
    "        split_command = command.split('/')\n",
    "        first = split_command[0][1:]\n",
    "        second = split_command[1]\n",
    "        positions = partner(positions, first, second)\n",
    "        \n",
    "    index += 1\n",
    "    if index == len(command_list):\n",
    "        index = 0\n",
    "\n",
    "print(positions)\n"
   ]
  }
 ],
 "metadata": {
  "kernelspec": {
   "display_name": "Python 3",
   "language": "python",
   "name": "python3"
  },
  "language_info": {
   "codemirror_mode": {
    "name": "ipython",
    "version": 3
   },
   "file_extension": ".py",
   "mimetype": "text/x-python",
   "name": "python",
   "nbconvert_exporter": "python",
   "pygments_lexer": "ipython3",
   "version": "3.6.1"
  }
 },
 "nbformat": 4,
 "nbformat_minor": 2
}
